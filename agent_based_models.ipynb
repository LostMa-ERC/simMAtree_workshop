{
  "cells": [
    {
      "cell_type": "markdown",
      "metadata": {
        "id": "view-in-github",
        "colab_type": "text"
      },
      "source": [
        "<a href=\"https://colab.research.google.com/github/LostMa-ERC/simMAtree_workshop/blob/main/agent_based_models.ipynb\" target=\"_parent\"><img src=\"https://colab.research.google.com/assets/colab-badge.svg\" alt=\"Open In Colab\"/></a>"
      ]
    },
    {
      "cell_type": "markdown",
      "source": [
        "# Manuscript Transmission as Speciation: Using Agent-Based Models and Bayesian Inference\n",
        "\n",
        "### Digital Approaches to Pre-Modern Texts and Manuscripts (Workshop)\n",
        "\n",
        "#### Jean-Baptiste Camps, Kelly Christensen, Ulysse Godreau, and Théo Moins\n",
        "\n",
        "12 June 2025"
      ],
      "metadata": {
        "id": "Q35XIHwrXpv_"
      },
      "id": "Q35XIHwrXpv_"
    },
    {
      "cell_type": "markdown",
      "source": [
        "## Agent based models for manuscript transmission"
      ],
      "metadata": {
        "id": "hgNka96V5Hcm"
      },
      "id": "hgNka96V5Hcm"
    },
    {
      "cell_type": "markdown",
      "source": [
        "### Imports"
      ],
      "metadata": {
        "id": "rTYiLbOH5nO1"
      },
      "id": "rTYiLbOH5nO1"
    },
    {
      "cell_type": "code",
      "source": [
        "!git clone https://github.com/LostMa-ERC/simMAtree_workshop.git\n",
        "\n",
        "import simMAtree_workshop.birth_death_utils as u\n",
        "import numpy as np\n",
        "import matplotlib.pyplot as plt\n",
        "import networkx as nx\n",
        "from IPython.core.display import SVG, display\n",
        "from tqdm.notebook import tqdm\n",
        "from collections import Counter\n",
        "import multiprocessing\n",
        "import os\n",
        "import pickle\n",
        "\n",
        "os.chdir('simMAtree_workshop')"
      ],
      "metadata": {
        "id": "o18KZMzR50Z4",
        "colab": {
          "base_uri": "https://localhost:8080/"
        },
        "outputId": "3efdb6e8-e8df-408c-e6c7-c0668f6d3ef8"
      },
      "id": "o18KZMzR50Z4",
      "execution_count": null,
      "outputs": [
        {
          "output_type": "stream",
          "name": "stdout",
          "text": [
            "Cloning into 'simMAtree_workshop'...\n",
            "remote: Enumerating objects: 79, done.\u001b[K\n",
            "remote: Counting objects: 100% (79/79), done.\u001b[K\n",
            "remote: Compressing objects: 100% (73/73), done.\u001b[K\n",
            "remote: Total 79 (delta 32), reused 11 (delta 4), pack-reused 0 (from 0)\u001b[K\n",
            "Receiving objects: 100% (79/79), 2.29 MiB | 9.90 MiB/s, done.\n",
            "Resolving deltas: 100% (32/32), done.\n"
          ]
        }
      ]
    },
    {
      "cell_type": "markdown",
      "source": [
        "### A simple stochastic model of manuscripts transmission: the Birth and Death Model"
      ],
      "metadata": {
        "id": "GZady-QJ52o4"
      },
      "id": "GZady-QJ52o4"
    },
    {
      "cell_type": "markdown",
      "source": [
        "#### Simulating *arbres réels* and constructing stemmata"
      ],
      "metadata": {
        "id": "JHpPB3sg6Jrs"
      },
      "id": "JHpPB3sg6Jrs"
    },
    {
      "cell_type": "markdown",
      "source": [
        "Let us first define the function that will simulate a single tree using the constant rate birth and death model"
      ],
      "metadata": {
        "id": "F2ZR2VN16Onj"
      },
      "id": "F2ZR2VN16Onj"
    },
    {
      "cell_type": "code",
      "source": [
        "def generate_tree_bd(lda, mu, Nact, Ninact):\n",
        "    \"\"\"\n",
        "    Generate a tree (arbre réel) according to birth death model.\n",
        "\n",
        "    Parameters\n",
        "    ----------\n",
        "    lda : float\n",
        "        birth rate of new node per node per iteration\n",
        "    mu : float\n",
        "        death rate of nodes per node per per iteration\n",
        "    Nact : int\n",
        "        number of iterations of the active reproduction phase\n",
        "    Ninact : int\n",
        "        number of iterations of the pure death phase (lda is set to 0)\n",
        "\n",
        "    Returns\n",
        "    -------\n",
        "    G : nx.DiGraph()\n",
        "        networkx graph object of the generated tree with following node attributes:\n",
        "            'state' : boolean, True if node living at the end of simulation\n",
        "            'birth_time' : int\n",
        "            'death_time' : int\n",
        "\n",
        "    \"\"\"\n",
        "    currentID = 0\n",
        "    G = nx.DiGraph()\n",
        "    G.add_node(currentID)\n",
        "    living = {0:True}\n",
        "\n",
        "    birth_time = {0:0}\n",
        "    death_time = {}\n",
        "\n",
        "    pop = 1\n",
        "    prob_birth = lda\n",
        "    prob_death = mu\n",
        "\n",
        "    for t in range(Nact):\n",
        "        for current_node in list(G.nodes()):\n",
        "            r = np.random.rand()\n",
        "            if r < prob_birth and living[current_node]:\n",
        "                currentID += 1\n",
        "                G.add_node(currentID)\n",
        "                G.add_edge(current_node, currentID)\n",
        "                living[currentID] = True\n",
        "                pop += 1\n",
        "                birth_time[currentID] = t\n",
        "            if prob_birth < r and r < (prob_birth + prob_death) and living[current_node]:\n",
        "                living[current_node] =  False\n",
        "                pop -= 1\n",
        "                death_time[current_node] = t\n",
        "        if pop == 0:\n",
        "            break\n",
        "\n",
        "    for t in range(Ninact):\n",
        "        for current_node in list(G.nodes()):\n",
        "            r = np.random.rand()\n",
        "            if r <  prob_death and living[current_node]:\n",
        "                living[current_node] =  False\n",
        "                pop -= 1\n",
        "                death_time[current_node] = t + Nact\n",
        "            if pop == 0:\n",
        "                break\n",
        "\n",
        "    nx.set_node_attributes(G, living, 'state')\n",
        "    nx.set_node_attributes(G, birth_time, 'birth_time')\n",
        "    nx.set_node_attributes(G, death_time, 'death_time')\n",
        "    return G"
      ],
      "metadata": {
        "id": "CFqk6r7X6V6l"
      },
      "id": "CFqk6r7X6V6l",
      "execution_count": null,
      "outputs": []
    },
    {
      "cell_type": "markdown",
      "source": [
        "We can now generate a simulated manuscript tradition and play around with parameters, display the corresponding tree of the full tradition as well as the corresponding *stemma codicum*"
      ],
      "metadata": {
        "id": "VowfoiUz6dQP"
      },
      "id": "VowfoiUz6dQP"
    },
    {
      "cell_type": "code",
      "source": [
        "λ = 7.9*10**(-3)    # reproduction (=birth) rate\n",
        "μ = 3.3*10**(-3)    # loss (=death) rate\n",
        "\n",
        "active_phase_duration = 1000\n",
        "decimation_phase_duration = 1000\n",
        "\n",
        "tree = generate_tree_bd(λ, μ, active_phase_duration , decimation_phase_duration)    # generate a simulated full tradition\n",
        "u.draw_tree(tree, 'arbre_reel')\n",
        "if any(nx.get_node_attributes(tree,'state').values()):      # check if tradition has any surviving witness\n",
        "    stemma = u.generate_stemma(tree)\n",
        "    u.draw_tree(stemma, 'stemma')\n",
        "    print('=== Full tradition ===')\n",
        "    display(SVG('arbre_reel.svg'))\n",
        "    print('=== Stemma ===')\n",
        "    display(SVG('stemma.svg'))\n",
        "else:\n",
        "    print('=== Full tradition ===')\n",
        "    display(SVG('arbre_reel.svg'))\n",
        "    print('resulting tradition has no survivng witnesses...Try again !')"
      ],
      "metadata": {
        "id": "Wlu03VcU6tDn"
      },
      "id": "Wlu03VcU6tDn",
      "execution_count": null,
      "outputs": []
    },
    {
      "cell_type": "markdown",
      "source": [
        "#### Simulating manuscript populations over parameter space"
      ],
      "metadata": {
        "id": "GV2Q_J0C7GXZ"
      },
      "id": "GV2Q_J0C7GXZ"
    },
    {
      "cell_type": "markdown",
      "source": [
        "We know want to generate whole populations (*i.e.* many trees) for several values of the parameters λ and μ. we define a square region in the parameter space for ```lambda_min <= λ <= lambda_max``` and ```mu_min <= μ <= mu_max``` spanned by ```lambda_mesh * mu_mesh``` evenly spaced points. For each pair ```(λ,μ)```we genrate trad_nb different traditions, *i.e* artificial *texts*."
      ],
      "metadata": {
        "id": "ez_cUw3U7Kvn"
      },
      "id": "ez_cUw3U7Kvn"
    },
    {
      "cell_type": "code",
      "source": [
        "lambda_min=6.5*10**(-3)\n",
        "lambda_max=8.5*10**(-3)\n",
        "mu_min=3.5*10**(-3)\n",
        "mu_max=4.5*10**(-3)\n",
        "\n",
        "lambda_mesh=5\n",
        "mu_mesh=5\n",
        "\n",
        "Nact=1000\n",
        "Ninact=1000\n",
        "\n",
        "# parameters values\n",
        "mu_range = np.linspace(mu_max, mu_min, mu_mesh)\n",
        "lambda_range = np.linspace(lambda_min, lambda_max, lambda_mesh)\n",
        "\n",
        "# parameter values as displayed in plots\n",
        "lambda_labels = [r'%.1f'%n for n in (10**(3))*lambda_range]\n",
        "mu_labels = [r'%.1f'%n for n in (10**(3))*mu_range]\n",
        "\n",
        "trad_nb=200             # number of generated traditions (=trees)\n",
        "path='bd_simulations'\n",
        "output_format='serialized'"
      ],
      "metadata": {
        "id": "PLVuAl698UdI"
      },
      "id": "PLVuAl698UdI",
      "execution_count": null,
      "outputs": []
    },
    {
      "cell_type": "markdown",
      "source": [
        "The whole set of simulations takes some minutes"
      ],
      "metadata": {
        "id": "X9LM9FZA8Z1s"
      },
      "id": "X9LM9FZA8Z1s"
    },
    {
      "cell_type": "code",
      "source": [
        "if not os.path.exists(f'{path}'):\n",
        "    os.mkdir(f'{path}')\n",
        "\n",
        "progress = tqdm(total = mu_mesh * lambda_mesh * trad_nb)\n",
        "for i in range(mu_mesh):\n",
        "    for j in range(lambda_mesh):\n",
        "        for k in range(trad_nb):\n",
        "            l = lambda_range[j]\n",
        "            m = mu_range[i]\n",
        "\n",
        "            point_path = f'{path}/lambda={lambda_labels[j]}_mu={mu_labels[i]}'\n",
        "\n",
        "            if not os.path.exists(point_path):\n",
        "                os.mkdir(point_path)\n",
        "\n",
        "            g = u.generate_tree_bd(l, m, Nact, Ninact)\n",
        "\n",
        "            if output_format == 'serialized':\n",
        "                os.system(f'touch {point_path}/{k}')\n",
        "                with open(f'{point_path}/{k}', 'wb') as f:\n",
        "                    pickle.dump(g, f)\n",
        "\n",
        "            if output_format == 'csv':\n",
        "                csv_dump(g, f'{point_path}/{k}')\n",
        "\n",
        "            progress.update(1)"
      ],
      "metadata": {
        "id": "WI6pTOjx8dUf"
      },
      "id": "WI6pTOjx8dUf",
      "execution_count": null,
      "outputs": []
    },
    {
      "cell_type": "markdown",
      "source": [
        "#### Ploting phase diagrams"
      ],
      "metadata": {
        "id": "15AIDSjG887a"
      },
      "id": "15AIDSjG887a"
    },
    {
      "cell_type": "markdown",
      "source": [
        "We may now compute and plot various statistics on simulated data:\n",
        "\n",
        "- survival rate (proportion of trees with at least one surviving witness)\n",
        "- median number of witnesses of a tradition\n",
        "- stemmatic property such as the proportion of bifid stemmata"
      ],
      "metadata": {
        "id": "PHKS4wn59EN4"
      },
      "id": "PHKS4wn59EN4"
    },
    {
      "cell_type": "code",
      "source": [
        "def survival_rate(trees):\n",
        "    n_surv = 0\n",
        "    for g in trees:\n",
        "        if any(nx.get_node_attributes(g, 'state').values()):\n",
        "            n_surv += 1\n",
        "    return n_surv / len(trees)\n",
        "\n",
        "def median_witness_number(trees):\n",
        "    wit_nb = []\n",
        "    for g in trees:\n",
        "        wit_nb.append(u.witness_nb(g))\n",
        "    return np.mean(wit_nb)\n",
        "\n",
        "def bifidity_rate(trees):\n",
        "    n_bifid = 0\n",
        "    n_stemmata = 0\n",
        "    for g in trees:\n",
        "        if u.witness_nb(g) >= 3:\n",
        "            n_stemmata += 1\n",
        "            st = u.generate_stemma(g)\n",
        "            rd = st.degree(u.root(st))\n",
        "            if rd == 2:\n",
        "                n_bifid += 1\n",
        "    return n_bifid / n_stemmata\n",
        "\n",
        "u.plot_phase_diagram(path, lambda_labels, mu_labels, 200, survival_rate, 'survival rate of texts')\n",
        "u.plot_phase_diagram(path, lambda_labels, mu_labels, 200, median_witness_number, 'median number of witnesses', prec=0)\n",
        "u.plot_phase_diagram(path, lambda_labels, mu_labels, 200, bifidity_rate, 'proportion of bifid stemmata', prec=2)"
      ],
      "metadata": {
        "id": "b5LHW3oo9gHe"
      },
      "id": "b5LHW3oo9gHe",
      "execution_count": null,
      "outputs": []
    },
    {
      "cell_type": "markdown",
      "source": [
        "#### Abundance data"
      ],
      "metadata": {
        "id": "I6G15gLo_yZX"
      },
      "id": "I6G15gLo_yZX"
    },
    {
      "cell_type": "markdown",
      "source": [
        "For some specific values of the parameters λ and μ, we can now look at the distribution of the number of witnesses per texts (*abundance data*)"
      ],
      "metadata": {
        "id": "_YTu8mR0_2Vi"
      },
      "id": "_YTu8mR0_2Vi"
    },
    {
      "cell_type": "code",
      "source": [
        "λ = 7*10**(-3)\n",
        "μ = 3*10**(-3)\n",
        "Ta = 1000\n",
        "Td = 1000\n",
        "\n",
        "witness_numbers = []\n",
        "for k in tqdm(range(1000)):\n",
        "    g = generate_tree_bd(λ,μ,Ta,Td)\n",
        "    witness_numbers.append(u.witness_nb(g))\n",
        "\n",
        "x = Counter(witness_numbers).keys()\n",
        "y = Counter(witness_numbers).values()\n",
        "plt.semilogy(x,y,'+')"
      ],
      "metadata": {
        "id": "XDfHGasa_4u9"
      },
      "id": "XDfHGasa_4u9",
      "execution_count": null,
      "outputs": []
    },
    {
      "cell_type": "markdown",
      "source": [
        "### A generalization of Birth-Death model: Yule Speciation model"
      ],
      "metadata": {
        "id": "4JxCjsAdALKR"
      },
      "id": "4JxCjsAdALKR"
    },
    {
      "cell_type": "code",
      "source": [
        "λ = 7.9*10**(-3)\n",
        "μ = 3.3*10**(-3)\n",
        "γ = .5*10**(-3)\n",
        "\n",
        "active_phase_duration = 1000\n",
        "decimation_phase_duration = 1000\n",
        "\n",
        "tree = u.generate_yule_tree(λ,γ,μ, active_phase_duration, decimation_phase_duration)\n",
        "if any(nx.get_node_attributes(tree,'state').values()):      # check if tradition has any surviving witness\n",
        "    stemma = u.generate_stemma_yule(tree)\n",
        "    u.draw_tree_yule(stemma, 'stemma_yule')\n",
        "    print('=== Multi works stemma ===')\n",
        "    display(SVG('stemma_yule.svg'))\n",
        "else:\n",
        "    print('resulting tradition has no survivng witnesses...Try again !')"
      ],
      "metadata": {
        "id": "hN2TScZSA2k5"
      },
      "id": "hN2TScZSA2k5",
      "execution_count": null,
      "outputs": []
    },
    {
      "cell_type": "markdown",
      "source": [
        "#### Abundance data for Yule Model"
      ],
      "metadata": {
        "id": "hk72KW9IR7Vu"
      },
      "id": "hk72KW9IR7Vu"
    },
    {
      "cell_type": "code",
      "source": [
        "witnesses = u.generate_yule_pop(1*10**(-2), 12*10**(-3), 10**(-3), 3.3*10**(-3), 1000, 1000, 2)"
      ],
      "metadata": {
        "id": "N2sb3Hu-WjvP"
      },
      "id": "N2sb3Hu-WjvP",
      "execution_count": null,
      "outputs": []
    },
    {
      "cell_type": "code",
      "source": [
        "x = Counter(witnesses).keys()\n",
        "y = Counter(witnesses).values()\n",
        "plt.loglog(x,y,'+')"
      ],
      "metadata": {
        "id": "NTzmHYtfW_g6"
      },
      "id": "NTzmHYtfW_g6",
      "execution_count": null,
      "outputs": []
    }
  ],
  "metadata": {
    "kernelspec": {
      "display_name": "Python 3 (ipykernel)",
      "language": "python",
      "name": "python3"
    },
    "language_info": {
      "codemirror_mode": {
        "name": "ipython",
        "version": 3
      },
      "file_extension": ".py",
      "mimetype": "text/x-python",
      "name": "python",
      "nbconvert_exporter": "python",
      "pygments_lexer": "ipython3",
      "version": "3.10.12"
    },
    "colab": {
      "provenance": [],
      "include_colab_link": true
    }
  },
  "nbformat": 4,
  "nbformat_minor": 5
}