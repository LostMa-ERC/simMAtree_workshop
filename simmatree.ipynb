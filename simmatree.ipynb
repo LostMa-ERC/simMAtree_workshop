{
  "cells": [
    {
      "cell_type": "markdown",
      "metadata": {
        "id": "view-in-github",
        "colab_type": "text"
      },
      "source": [
        "<a href=\"https://colab.research.google.com/github/LostMa-ERC/simMAtree_workshop/blob/main/simmatree.ipynb\" target=\"_parent\"><img src=\"https://colab.research.google.com/assets/colab-badge.svg\" alt=\"Open In Colab\"/></a>"
      ]
    },
    {
      "cell_type": "markdown",
      "source": [
        "# Manuscript Transmission as Speciation: Using Agent-Based Models and Bayesian Inference\n",
        "\n",
        "### Digital Approaches to Pre-Modern Texts and Manuscripts (Workshop)\n",
        "\n",
        "#### Jean-Baptiste Camps, Kelly Christensen, Ulysse Godreau, and Théo Moins\n",
        "\n",
        "12 June 2025"
      ],
      "metadata": {
        "id": "Q35XIHwrXpv_"
      },
      "id": "Q35XIHwrXpv_"
    },
    {
      "cell_type": "markdown",
      "source": [
        "## Simulation Based Inference using SimMAtree"
      ],
      "metadata": {
        "id": "hfJ0fO_z9Fkf"
      },
      "id": "hfJ0fO_z9Fkf"
    },
    {
      "cell_type": "markdown",
      "source": [
        "#### Package installation"
      ],
      "metadata": {
        "id": "nrUSYsM6fAW5"
      },
      "id": "nrUSYsM6fAW5"
    },
    {
      "cell_type": "code",
      "execution_count": null,
      "id": "86db4575",
      "metadata": {
        "id": "86db4575"
      },
      "outputs": [],
      "source": [
        "# Install simmatree directly from GitHub\n",
        "\n",
        "# !pip install git+https://github.com/LostMa-ERC/simMAtree.git\n",
        "\n",
        "# Issue on dependancies with colab! Run this 2 lines alternatively:\n",
        "!pip install git+https://github.com/LostMa-ERC/simMAtree.git --no-deps\n",
        "!pip install pandas numpy matplotlib seaborn pydantic click rich pyyaml sbi\n",
        "\n",
        "# Test installation\n",
        "!simmatree-test"
      ]
    },
    {
      "cell_type": "markdown",
      "source": [
        "### Imports and Setup"
      ],
      "metadata": {
        "id": "B4ASvvqgXpEe"
      },
      "id": "B4ASvvqgXpEe"
    },
    {
      "cell_type": "code",
      "source": [
        "import os\n",
        "import tempfile\n",
        "import yaml\n",
        "import pandas as pd\n",
        "import numpy as np\n",
        "import matplotlib.pyplot as plt\n",
        "import seaborn as sns\n",
        "from pathlib import Path\n",
        "\n",
        "# Import simmatree functions directly\n",
        "from src.cli.config import Config\n",
        "from src.cli.generate import generate\n",
        "from src.cli.inference import inference\n",
        "from src.cli.score import score\n",
        "\n",
        "print(\"All imports successful!\")"
      ],
      "metadata": {
        "id": "pYgVPLqaXwC0"
      },
      "id": "pYgVPLqaXwC0",
      "execution_count": null,
      "outputs": []
    },
    {
      "cell_type": "markdown",
      "source": [
        "### Configuration example"
      ],
      "metadata": {
        "id": "sVU-bAdHXygn"
      },
      "id": "sVU-bAdHXygn"
    },
    {
      "cell_type": "code",
      "source": [
        "# Define experiment configuration\n",
        "\n",
        "config_dict_Yule = {\n",
        "\n",
        "    # Type of model we are focusing on\n",
        "    'model': {\n",
        "        'name': 'Yule', # 'Yule' or 'BirthDeath' here\n",
        "        'config': {\n",
        "            'n_init': 1, # Initial number of trees\n",
        "            'Nact': 1000, # Number of active iterations\n",
        "            'Ninact': 1000, # Number of inactive iterations (only deaths)\n",
        "            'max_pop': 50000 # Maximum population size\n",
        "        }\n",
        "    },\n",
        "\n",
        "    # For generation or scoring : the corresponding parameters (=rate) of a simulation\n",
        "    'params': {\n",
        "        'LDA': 0.3,\n",
        "        'lda': 0.008,\n",
        "        'gamma': 0.001,\n",
        "        'mu': 0.0033\n",
        "    },\n",
        "\n",
        "    # Configuration of the inference model\n",
        "    'inference': {\n",
        "        'name': 'SBI', # For the future : other inference method will be investigated\n",
        "        'config': {\n",
        "            'method': 'NPE',\n",
        "            'num_simulations': 200,\n",
        "            'num_rounds': 2,\n",
        "            'random_seed': 42,\n",
        "            'num_samples': 100,\n",
        "            'num_workers': 2,       # Reduced for Colab!\n",
        "            'device': 'cpu'\n",
        "        }\n",
        "    }\n",
        "}\n",
        "\n",
        "# Create temporary directory for our experiment\n",
        "temp_dir = \"/content/\"\n",
        "config_file_Yule = os.path.join(temp_dir, 'Yule_example.yml')\n",
        "\n",
        "# Save configuration to YAML file\n",
        "with open(config_file_Yule, 'w') as f:\n",
        "    yaml.dump(config_dict_Yule, f, default_flow_style=False)\n",
        "\n",
        "# Parse configuration using simmatree's Config class\n",
        "config_Yule = Config(config_file_Yule)\n",
        "\n",
        "print(f\"Configuration saved to: {config_file_Yule}\")\n"
      ],
      "metadata": {
        "id": "Xl_qGV5wXwNM"
      },
      "id": "Xl_qGV5wXwNM",
      "execution_count": null,
      "outputs": []
    },
    {
      "cell_type": "markdown",
      "source": [
        "### Abundance Data generation\n",
        "\n",
        "This simulates the copying and transmission process of manuscripts."
      ],
      "metadata": {
        "id": "gTSmdAL2csh1"
      },
      "id": "gTSmdAL2csh1"
    },
    {
      "cell_type": "code",
      "source": [
        "synthetic_data_file = os.path.join(temp_dir, 'sample_data/synthetic_data.csv')\n",
        "\n",
        "# Use the generate function directly\n",
        "success = generate(\n",
        "    data_path=synthetic_data_file,\n",
        "    model=config_Yule.model,\n",
        "    parameters=config_Yule.params,\n",
        "    seed=42,\n",
        "    show_params=False\n",
        ")\n",
        "\n",
        "print(f\"\\nGeneration successful: {success}\")\n",
        "print(f\"Synthetic data saved to: {synthetic_data_file}\")\n",
        "\n",
        "# CLI equivalent:\n",
        "print(f\"\\n💡 CLI equivalent: simmatree -c {config_file_Yule} generate -o {synthetic_data_file} --show-params\")"
      ],
      "metadata": {
        "id": "LwDskRohXwQs"
      },
      "id": "LwDskRohXwQs",
      "execution_count": null,
      "outputs": []
    },
    {
      "cell_type": "code",
      "source": [
        "# Load and examine the synthetic data\n",
        "df = pd.read_csv(synthetic_data_file, sep=';')\n",
        "\n",
        "print(\"\\n🔍 First 10 rows:\")\n",
        "print(df.head(10))\n",
        "\n",
        "# Analyze witness distribution\n",
        "witness_counts = df.groupby('text_ID')['witness_ID'].count()\n",
        "\n",
        "print(f\"\\n📈 Witness Distribution Statistics:\")\n",
        "print(f\"Mean number of witnesses per text: {witness_counts.mean():.2f}\")\n",
        "print(f\"Median number of witnesses per text: {witness_counts.median():.1f}\")\n",
        "print(f\"Max number of witnesses for one text: {witness_counts.max()}\")\n",
        "print(f\"Texts with only 1 witness: {(witness_counts == 1).sum()}\")"
      ],
      "metadata": {
        "id": "xOCmh0YlXwTu"
      },
      "id": "xOCmh0YlXwTu",
      "execution_count": null,
      "outputs": []
    },
    {
      "cell_type": "code",
      "source": [
        "# Create visualization of witness distribution\n",
        "fig, axes = plt.subplots(1, 2, figsize=(15, 5))\n",
        "\n",
        "# Histogram of witness counts per text\n",
        "axes[0].hist(witness_counts, bins=20, alpha=0.7, edgecolor='black')\n",
        "axes[0].set_xlabel('Number of Witnesses per Text')\n",
        "axes[0].set_ylabel('Number of Texts')\n",
        "axes[0].set_title('Distribution of Witnesses per Text')\n",
        "axes[0].grid(True, alpha=0.3)\n",
        "\n",
        "# Log-scale version for better visualization\n",
        "witness_freq = witness_counts.value_counts().sort_index()\n",
        "x_values = witness_freq.index.values\n",
        "y_values = witness_freq.values\n",
        "\n",
        "axes[1].plot(x_values, y_values, linestyle='--', marker='o',\n",
        "             markersize=6, linewidth=2, alpha=0.8)\n",
        "axes[1].set_xscale('log')\n",
        "axes[1].set_yscale('log')\n",
        "axes[1].set_xlabel('Number of Witnesses per Text (log scale)')\n",
        "axes[1].set_ylabel('Number of Texts (log scale)')\n",
        "axes[1].set_title('Distribution of Witnesses per Text (Log-Log Scale)')\n",
        "axes[1].grid(True, alpha=0.3, which='both')\n",
        "\n",
        "plt.tight_layout()\n",
        "plt.show()"
      ],
      "metadata": {
        "id": "Hx2iH-GHXwda"
      },
      "id": "Hx2iH-GHXwda",
      "execution_count": null,
      "outputs": []
    },
    {
      "cell_type": "markdown",
      "source": [
        "##  Comparaison with Birth Death distribution"
      ],
      "metadata": {
        "id": "GVX9n1_FfL7R"
      },
      "id": "GVX9n1_FfL7R"
    },
    {
      "cell_type": "code",
      "source": [
        "# Define another experiment configuration\n",
        "\n",
        "config_dict_Yule[\"model\"][\"name\"] = \"BirthDeath\"\n",
        "config_dict_Yule[\"model\"][\"config\"][\"n_init\"] = 150\n",
        "\n",
        "config_file_BD = os.path.join(temp_dir, 'BD_example.yml')\n",
        "\n",
        "# Save configuration to YAML file\n",
        "with open(config_file_BD, 'w') as f:\n",
        "    yaml.dump(config_dict_Yule, f, default_flow_style=False)\n",
        "\n",
        "# Parse configuration using simmatree's Config class\n",
        "config_BD = Config(config_file_BD)\n",
        "\n",
        "\n",
        "synthetic_data_BD = os.path.join(temp_dir, 'sample_data/synthetic_data_BD.csv')\n",
        "success = generate(\n",
        "    data_path=synthetic_data_BD,\n",
        "    model=config_BD.model,\n",
        "    parameters=config_BD.params,\n",
        "    seed=42,\n",
        "    show_params=False\n",
        ")\n"
      ],
      "metadata": {
        "id": "T6iZjqxMXwln"
      },
      "id": "T6iZjqxMXwln",
      "execution_count": null,
      "outputs": []
    },
    {
      "cell_type": "code",
      "source": [
        "# Load and examine the synthetic data\n",
        "df = pd.read_csv(synthetic_data_BD, sep=';')\n",
        "witness_counts = df.groupby('text_ID')['witness_ID'].count()\n",
        "\n",
        "print(f\"\\n📈 Witness Distribution Statistics:\")\n",
        "print(f\"Mean number of witnesses per text: {witness_counts.mean():.2f}\")\n",
        "print(f\"Median number of witnesses per text: {witness_counts.median():.1f}\")\n",
        "print(f\"Max number of witnesses for one text: {witness_counts.max()}\")\n",
        "print(f\"Texts with only 1 witness: {(witness_counts == 1).sum()}\")\n"
      ],
      "metadata": {
        "id": "S3IpT5noQi2Z"
      },
      "id": "S3IpT5noQi2Z",
      "execution_count": null,
      "outputs": []
    },
    {
      "cell_type": "code",
      "source": [
        "# Create visualization of witness distribution\n",
        "fig, axes = plt.subplots(1, 2, figsize=(15, 5))\n",
        "\n",
        "# Histogram of witness counts per text\n",
        "axes[0].hist(witness_counts, bins=20, alpha=0.7, edgecolor='black')\n",
        "axes[0].set_xlabel('Number of Witnesses per Text')\n",
        "axes[0].set_ylabel('Number of Texts')\n",
        "axes[0].set_title('Distribution of Witnesses per Text')\n",
        "axes[0].grid(True, alpha=0.3)\n",
        "\n",
        "# Log-scale version for better visualization\n",
        "witness_freq = witness_counts.value_counts().sort_index()\n",
        "x_values = witness_freq.index.values\n",
        "y_values = witness_freq.values\n",
        "\n",
        "axes[1].plot(x_values, y_values, linestyle='--', marker='o',\n",
        "             markersize=6, linewidth=2, alpha=0.8)\n",
        "axes[1].set_xscale('log')\n",
        "axes[1].set_yscale('log')\n",
        "axes[1].set_xlabel('Number of Witnesses per Text (log scale)')\n",
        "axes[1].set_ylabel('Number of Texts (log scale)')\n",
        "axes[1].set_title('Distribution of Witnesses per Text (Log-Log Scale)')\n",
        "axes[1].grid(True, alpha=0.3, which='both')\n",
        "\n",
        "plt.tight_layout()\n",
        "plt.show()"
      ],
      "metadata": {
        "id": "7fpHoBbHQknd"
      },
      "id": "7fpHoBbHQknd",
      "execution_count": null,
      "outputs": []
    },
    {
      "cell_type": "markdown",
      "source": [
        "# Bayesian Inference\n",
        "\n",
        "This will estimate the model parameters from the observed data.\n",
        "This may take a few minutes depending on the configuration.\n",
        "\n",
        "### Applying SBI with Birth Death simulator"
      ],
      "metadata": {
        "id": "eX5uzpZUgTtC"
      },
      "id": "eX5uzpZUgTtC"
    },
    {
      "cell_type": "code",
      "source": [
        "# Set up results directory\n",
        "results_dir = Path(temp_dir) / 'inference_results'\n",
        "results_dir.mkdir(exist_ok=True)\n",
        "\n",
        "# Run inference using the Python function directly\n",
        "inference_data = inference(\n",
        "    csv_file=synthetic_data_file,\n",
        "    model=config_BD.model,\n",
        "    backend=config_BD.backend,\n",
        "    dir=results_dir,\n",
        "    csv_separator=';'\n",
        ")\n",
        "\n",
        "# List generated files\n",
        "result_files = list(results_dir.glob('*'))\n",
        "print(f\"\\n Generated files: {[f.name for f in result_files]}\")\n",
        "\n",
        "# CLI equivalent:\n",
        "print(f\"\\n💡 CLI equivalent: simmatree -c {config_file_Yule} infer -i {synthetic_data_file} -o {results_dir}\")\n"
      ],
      "metadata": {
        "id": "uNN32pApgckq"
      },
      "id": "uNN32pApgckq",
      "execution_count": null,
      "outputs": []
    },
    {
      "cell_type": "code",
      "source": [
        "\n",
        "# Load posterior summary\n",
        "posterior_summary = pd.read_csv(results_dir / 'posterior_summary.csv')\n",
        "\n",
        "print(\" Posterior Summary Statistics:\")\n",
        "print(posterior_summary.round(6))\n",
        "\n",
        "# Compare with true parameters\n",
        "true_params = config_BD.params\n",
        "estimated_params = posterior_summary['hpdi_95%'].values\n",
        "\n",
        "param_names = ['lda', 'mu']\n",
        "true_values = [true_params[name] for name in param_names]\n",
        "\n",
        "print(f\"\\n Parameter Comparison:\")\n",
        "print(f\"{'Parameter':<10} {'True Value':<12} {'HPDI Point':<12} {'Relative Error':<15}\")\n",
        "print(\"-\" * 55)\n",
        "\n",
        "for i, name in enumerate(param_names):\n",
        "    true_val = true_values[i]\n",
        "    estimated_val = estimated_params[i]\n",
        "    rel_error = abs(estimated_val - true_val) / true_val * 100\n",
        "    print(f\"{name:<10} {true_val:<12.6f} {estimated_val:<12.6f} {rel_error:<15.2f}%\")"
      ],
      "metadata": {
        "id": "jv1rqDZDju-l"
      },
      "id": "jv1rqDZDju-l",
      "execution_count": null,
      "outputs": []
    },
    {
      "cell_type": "code",
      "source": [
        "# Display generated plots\n",
        "from IPython.display import Image, display\n",
        "import matplotlib.image as mpimg\n",
        "\n",
        "# Show posterior distributions\n",
        "plots_to_show = [\n",
        "    ('pairplot.png', 'Parameter Correlations and Posterior Distributions'),\n",
        "    ('posterior.png', 'Marginal Posterior Distributions'),\n",
        "    ('pp_summaries.png', 'Posterior Predictive Checks')\n",
        "]\n",
        "\n",
        "for plot_file, title in plots_to_show:\n",
        "    plot_path = results_dir / plot_file\n",
        "    if plot_path.exists():\n",
        "        print(f\"\\n{title}\")\n",
        "        img = mpimg.imread(plot_path)\n",
        "        plt.figure(figsize=(12, 8))\n",
        "        plt.imshow(img)\n",
        "        plt.axis('off')\n",
        "        plt.title(title)\n",
        "        plt.tight_layout()\n",
        "        plt.show()\n",
        "    else:\n",
        "        print(f\" Plot not found: {plot_file}\")"
      ],
      "metadata": {
        "id": "sQ5oj3o3gcmp"
      },
      "id": "sQ5oj3o3gcmp",
      "execution_count": null,
      "outputs": []
    },
    {
      "cell_type": "markdown",
      "source": [
        "As we have here the ground truth, we can evaluate how accurate we are in our inference :"
      ],
      "metadata": {
        "id": "kselLnWkkpfD"
      },
      "id": "kselLnWkkpfD"
    },
    {
      "cell_type": "code",
      "source": [
        "print(\"Evaluating inference performance against true parameters...\")\n",
        "\n",
        "params_BD = {'lda': config_Yule.params['lda'], 'mu': config_Yule.params['mu']}\n",
        "\n",
        "# Run scoring using the Python function directly\n",
        "score(param_dict=params_BD, results_dir=str(results_dir))\n",
        "\n",
        "# Load evaluation metrics\n",
        "metrics_file = results_dir / 'summary_metrics.csv'\n",
        "if metrics_file.exists():\n",
        "    metrics = pd.read_csv(metrics_file)\n",
        "    print(\"\\n Evaluation Metrics:\")\n",
        "    print(metrics.round(6))\n",
        "\n",
        "    print(f\"\\n Performance Summary:\")\n",
        "    print(f\"Root Mean Square Error (RMSE): {metrics['rmse'].iloc[0]:.6f}\")\n",
        "    print(f\"Normalized RMSE: {metrics['nrmse'].iloc[0]:.6f}\")\n",
        "    print(f\"Mean Relative Error: {metrics['mean_rel_error_pct'].iloc[0]:.2f}%\")\n",
        "    print(f\"Coverage Probability: {metrics['coverage_probability'].iloc[0]:.2f}\")\n",
        "else:\n",
        "    print(\" Evaluation metrics file not found.\")\n",
        "\n",
        "# CLI equivalent:\n",
        "print(f\"\\n💡 CLI equivalent: simmatree -c {config_file_Yule} score -d {results_dir}\")"
      ],
      "metadata": {
        "id": "H7KbGTD8gcrL"
      },
      "id": "H7KbGTD8gcrL",
      "execution_count": null,
      "outputs": []
    },
    {
      "cell_type": "code",
      "source": [
        "# Display generated plots\n",
        "from IPython.display import Image, display\n",
        "import matplotlib.image as mpimg\n",
        "\n",
        "# Show posterior distributions\n",
        "plots_to_show = [\n",
        "    ('pairplot.png', 'Parameter Correlations and Posterior Distributions'),\n",
        "    ('posterior.png', 'Marginal Posterior Distributions'),\n",
        "    ('relative_error.png', 'Relative error of estimates')\n",
        "]\n",
        "\n",
        "for plot_file, title in plots_to_show:\n",
        "    plot_path = results_dir / plot_file\n",
        "    if plot_path.exists():\n",
        "        print(f\"\\n{title}\")\n",
        "        img = mpimg.imread(plot_path)\n",
        "        plt.figure(figsize=(12, 8))\n",
        "        plt.imshow(img)\n",
        "        plt.axis('off')\n",
        "        plt.title(title)\n",
        "        plt.tight_layout()\n",
        "        plt.show()\n",
        "    else:\n",
        "        print(f\" Plot not found: {plot_file}\")"
      ],
      "metadata": {
        "id": "aLdJo6IRgctq"
      },
      "id": "aLdJo6IRgctq",
      "execution_count": null,
      "outputs": []
    },
    {
      "cell_type": "markdown",
      "source": [],
      "metadata": {
        "id": "Ncx9OIzMo6TI"
      },
      "id": "Ncx9OIzMo6TI"
    },
    {
      "cell_type": "code",
      "source": [
        "# Set up results directory\n",
        "results_dir_Yule = Path(temp_dir) / 'inference_results_Yule'\n",
        "results_dir_Yule.mkdir(exist_ok=True)\n",
        "\n",
        "# Run inference using the Python function directly\n",
        "inference_data = inference(\n",
        "    csv_file=synthetic_data_file,\n",
        "    model=config_Yule.model,\n",
        "    backend=config_Yule.backend,\n",
        "    dir=results_dir_Yule,\n",
        "    csv_separator=';'\n",
        ")\n",
        "\n",
        "# List generated files\n",
        "result_files = list(results_dir_Yule.glob('*'))\n",
        "print(f\"\\n Generated files: {[f.name for f in result_files]}\")\n",
        "\n",
        "# CLI equivalent:\n",
        "print(f\"\\n💡 CLI equivalent: simmatree -c {config_file_Yule} infer -i {synthetic_data_file} -o {results_dir_Yule}\")\n"
      ],
      "metadata": {
        "id": "8eckGY65o3Im"
      },
      "id": "8eckGY65o3Im",
      "execution_count": null,
      "outputs": []
    },
    {
      "cell_type": "code",
      "source": [
        "# Display generated plots\n",
        "from IPython.display import Image, display\n",
        "import matplotlib.image as mpimg\n",
        "\n",
        "# Show posterior distributions\n",
        "plots_to_show = [\n",
        "    ('pairplot.png', 'Parameter Correlations and Posterior Distributions'),\n",
        "    ('posterior.png', 'Marginal Posterior Distributions'),\n",
        "    ('pp_summaries.png', 'Posterior Predictive Checks')\n",
        "]\n",
        "\n",
        "for plot_file, title in plots_to_show:\n",
        "    plot_path = results_dir_Yule / plot_file\n",
        "    if plot_path.exists():\n",
        "        print(f\"\\n{title}\")\n",
        "        img = mpimg.imread(plot_path)\n",
        "        plt.figure(figsize=(12, 8))\n",
        "        plt.imshow(img)\n",
        "        plt.axis('off')\n",
        "        plt.title(title)\n",
        "        plt.tight_layout()\n",
        "        plt.show()\n",
        "    else:\n",
        "        print(f\" Plot not found: {plot_file}\")"
      ],
      "metadata": {
        "id": "PVz2gqxto5Nn"
      },
      "id": "PVz2gqxto5Nn",
      "execution_count": null,
      "outputs": []
    },
    {
      "cell_type": "code",
      "source": [
        "print(\"Evaluating inference performance against true parameters...\")\n",
        "\n",
        "params_Yule = {'LDA': config_Yule.params['LDA'], 'lda': config_Yule.params['lda'], 'gamma': config_Yule.params['gamma'], 'mu': config_Yule.params['mu']}\n",
        "\n",
        "# Run scoring using the Python function directly\n",
        "score(param_dict=params_Yule, results_dir=str(results_dir_Yule))\n",
        "\n",
        "# Load evaluation metrics\n",
        "metrics_file = results_dir_Yule / 'summary_metrics.csv'\n",
        "if metrics_file.exists():\n",
        "    metrics = pd.read_csv(metrics_file)\n",
        "    print(\"\\n Evaluation Metrics:\")\n",
        "    print(metrics.round(6))\n",
        "\n",
        "    print(f\"\\n Performance Summary:\")\n",
        "    print(f\"Root Mean Square Error (RMSE): {metrics['rmse'].iloc[0]:.6f}\")\n",
        "    print(f\"Normalized RMSE: {metrics['nrmse'].iloc[0]:.6f}\")\n",
        "    print(f\"Mean Relative Error: {metrics['mean_rel_error_pct'].iloc[0]:.2f}%\")\n",
        "    print(f\"Coverage Probability: {metrics['coverage_probability'].iloc[0]:.2f}\")\n",
        "else:\n",
        "    print(\" Evaluation metrics file not found.\")\n",
        "\n",
        "# CLI equivalent:\n",
        "print(f\"\\n💡 CLI equivalent: simmatree -c {config_file_Yule} score -d {results_dir_Yule}\")"
      ],
      "metadata": {
        "id": "MhlXH3Jgo46u"
      },
      "id": "MhlXH3Jgo46u",
      "execution_count": null,
      "outputs": []
    },
    {
      "cell_type": "code",
      "source": [
        "# Display generated plots\n",
        "from IPython.display import Image, display\n",
        "import matplotlib.image as mpimg\n",
        "\n",
        "# Show posterior distributions\n",
        "plots_to_show = [\n",
        "    ('pairplot.png', 'Parameter Correlations and Posterior Distributions'),\n",
        "    ('posterior.png', 'Marginal Posterior Distributions'),\n",
        "    ('relative_error.png', 'Relative error of estimates')\n",
        "]\n",
        "\n",
        "for plot_file, title in plots_to_show:\n",
        "    plot_path = results_dir_Yule / plot_file\n",
        "    if plot_path.exists():\n",
        "        print(f\"\\n{title}\")\n",
        "        img = mpimg.imread(plot_path)\n",
        "        plt.figure(figsize=(12, 8))\n",
        "        plt.imshow(img)\n",
        "        plt.axis('off')\n",
        "        plt.title(title)\n",
        "        plt.tight_layout()\n",
        "        plt.show()\n",
        "    else:\n",
        "        print(f\" Plot not found: {plot_file}\")"
      ],
      "metadata": {
        "id": "L8ADqEERxlDw"
      },
      "id": "L8ADqEERxlDw",
      "execution_count": null,
      "outputs": []
    },
    {
      "cell_type": "code",
      "source": [],
      "metadata": {
        "id": "UmKo4gBKxk1i"
      },
      "id": "UmKo4gBKxk1i",
      "execution_count": null,
      "outputs": []
    }
  ],
  "metadata": {
    "kernelspec": {
      "display_name": "Python 3 (ipykernel)",
      "language": "python",
      "name": "python3"
    },
    "language_info": {
      "codemirror_mode": {
        "name": "ipython",
        "version": 3
      },
      "file_extension": ".py",
      "mimetype": "text/x-python",
      "name": "python",
      "nbconvert_exporter": "python",
      "pygments_lexer": "ipython3",
      "version": "3.10.12"
    },
    "colab": {
      "provenance": [],
      "include_colab_link": true
    }
  },
  "nbformat": 4,
  "nbformat_minor": 5
}