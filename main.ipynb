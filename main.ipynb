{
  "cells": [
    {
      "cell_type": "markdown",
      "source": [
        "# SimMAtree"
      ],
      "metadata": {
        "id": "Q35XIHwrXpv_"
      },
      "id": "Q35XIHwrXpv_"
    },
    {
      "cell_type": "code",
      "execution_count": 5,
      "id": "86db4575",
      "metadata": {
        "id": "86db4575",
        "colab": {
          "base_uri": "https://localhost:8080/"
        },
        "outputId": "d8022ed9-e9a2-48a5-c620-a19f8a1d916c"
      },
      "outputs": [
        {
          "output_type": "stream",
          "name": "stdout",
          "text": [
            "2025-06-03 15:35:25.337575: E external/local_xla/xla/stream_executor/cuda/cuda_fft.cc:477] Unable to register cuFFT factory: Attempting to register factory for plugin cuFFT when one has already been registered\n",
            "WARNING: All log messages before absl::InitializeLog() is called are written to STDERR\n",
            "E0000 00:00:1748964925.389455    5168 cuda_dnn.cc:8310] Unable to register cuDNN factory: Attempting to register factory for plugin cuDNN when one has already been registered\n",
            "E0000 00:00:1748964925.407127    5168 cuda_blas.cc:1418] Unable to register cuBLAS factory: Attempting to register factory for plugin cuBLAS when one has already been registered\n",
            "Looks good!\n"
          ]
        }
      ],
      "source": [
        "# Install simmatree directly from GitHub\n",
        "\n",
        "# !pip install git+https://github.com/LostMa-ERC/simMAtree.git\n",
        "\n",
        "# Issue on dependancies with colab! Run this 2 lines alternatively:\n",
        "#!pip install git+https://github.com/LostMa-ERC/simMAtree.git --no-deps\n",
        "#!pip install pandas numpy matplotlib seaborn pydantic click rich pyyaml\n",
        "\n",
        "# Test installation\n",
        "!simmatree-test"
      ]
    },
    {
      "cell_type": "markdown",
      "source": [
        "### Imports and Setup"
      ],
      "metadata": {
        "id": "B4ASvvqgXpEe"
      },
      "id": "B4ASvvqgXpEe"
    },
    {
      "cell_type": "code",
      "source": [
        "import os\n",
        "import tempfile\n",
        "import yaml\n",
        "import pandas as pd\n",
        "import numpy as np\n",
        "import matplotlib.pyplot as plt\n",
        "import seaborn as sns\n",
        "from pathlib import Path\n",
        "\n",
        "# Import simmatree functions directly\n",
        "from src.cli.config import Config\n",
        "from src.cli.generate import generate\n",
        "from src.cli.inference import inference\n",
        "from src.cli.score import score"
      ],
      "metadata": {
        "id": "pYgVPLqaXwC0"
      },
      "id": "pYgVPLqaXwC0",
      "execution_count": 6,
      "outputs": []
    },
    {
      "cell_type": "markdown",
      "source": [
        "### Configuration example"
      ],
      "metadata": {
        "id": "sVU-bAdHXygn"
      },
      "id": "sVU-bAdHXygn"
    },
    {
      "cell_type": "code",
      "source": [
        "# Define experiment configuration\n",
        "config_dict = {\n",
        "    'model': {\n",
        "        'name': 'BirthDeath', # 'Yule' or 'BirthDeath' here\n",
        "        'config': {\n",
        "            'n_init': 500,\n",
        "            'Nact': 1000,\n",
        "            'Ninact': 1000,\n",
        "            'max_pop': 100000\n",
        "        }\n",
        "    },\n",
        "    'params': {\n",
        "        'LDA': 0.3,\n",
        "        'lda': 0.008,\n",
        "        'gamma': 0.001,\n",
        "        'mu': 0.0033\n",
        "    },\n",
        "    'inference': {\n",
        "        'name': 'SBI',\n",
        "        'config': {\n",
        "            'method': 'NPE',\n",
        "            'num_simulations': 50,\n",
        "            'num_rounds': 2,\n",
        "            'random_seed': 42,\n",
        "            'num_samples': 100,\n",
        "            'num_workers': 2,       # Reduced for Colab?\n",
        "            'device': 'cpu'\n",
        "        }\n",
        "    }\n",
        "}\n",
        "\n",
        "# Create temporary directory for our experiment\n",
        "temp_dir = \"/content/\"\n",
        "config_file = os.path.join(temp_dir, 'BD_example.yml')\n",
        "\n",
        "# Save configuration to YAML file\n",
        "with open(config_file, 'w') as f:\n",
        "    yaml.dump(config_dict, f, default_flow_style=False)\n",
        "\n",
        "# Parse configuration using simmatree's Config class\n",
        "config = Config(config_file)\n",
        "\n",
        "print(f\"Configuration saved to: {config_file}\")\n"
      ],
      "metadata": {
        "colab": {
          "base_uri": "https://localhost:8080/"
        },
        "id": "Xl_qGV5wXwNM",
        "outputId": "d0b4d858-d41f-4be5-b170-92ac81574406"
      },
      "id": "Xl_qGV5wXwNM",
      "execution_count": 34,
      "outputs": [
        {
          "output_type": "stream",
          "name": "stdout",
          "text": [
            "Configuration saved to: /content/BD_example.yml\n"
          ]
        }
      ]
    },
    {
      "cell_type": "markdown",
      "source": [
        "### Data generation"
      ],
      "metadata": {
        "id": "gTSmdAL2csh1"
      },
      "id": "gTSmdAL2csh1"
    },
    {
      "cell_type": "code",
      "source": [
        "# Generate synthetic witness data using the Python function directly\n",
        "synthetic_data_file = os.path.join(temp_dir, 'data/synthetic_data.csv')\n",
        "\n",
        "print(\"Generating synthetic witness data...\")\n",
        "print(\"This simulates the copying and transmission process of manuscripts.\")\n",
        "\n",
        "# Use the generate function directly\n",
        "success = generate(\n",
        "    data_path=synthetic_data_file,\n",
        "    model=config.model,\n",
        "    parameters=config.params,\n",
        "    seed=42,\n",
        "    show_params=False\n",
        ")\n",
        "\n",
        "print(f\"\\nGeneration successful: {success}\")\n",
        "print(f\"Synthetic data saved to: {synthetic_data_file}\")\n",
        "\n",
        "# CLI equivalent:\n",
        "print(f\"\\n💡 CLI equivalent: simmatree -c {config_file} generate -o {synthetic_data_file} --show-params\")"
      ],
      "metadata": {
        "colab": {
          "base_uri": "https://localhost:8080/"
        },
        "id": "LwDskRohXwQs",
        "outputId": "c5c085a2-97a5-4993-d659-96ab7c8871e9"
      },
      "id": "LwDskRohXwQs",
      "execution_count": 35,
      "outputs": [
        {
          "output_type": "stream",
          "name": "stdout",
          "text": [
            "Generating synthetic witness data...\n",
            "This simulates the copying and transmission process of manuscripts.\n",
            "Generating population...\n",
            "Witness Number: 1961\n",
            "Works Number: 264\n",
            "Max Witnesses: 55\n",
            "Number of 1: 35\n",
            "\n",
            "Generation successful: True\n",
            "Synthetic data saved to: /content/data/synthetic_data.csv\n",
            "\n",
            "💡 CLI equivalent: simmatree -c /content/BD_example.yml generate -o /content/data/synthetic_data.csv --show-params\n"
          ]
        }
      ]
    },
    {
      "cell_type": "code",
      "source": [
        "# Load and examine the synthetic data\n",
        "df = pd.read_csv(synthetic_data_file, sep=';')\n",
        "\n",
        "print(\"📊 Dataset Overview:\")\n",
        "print(f\"Total witnesses: {len(df)}\")\n",
        "print(f\"Unique texts: {df['text_ID'].nunique()}\")\n",
        "print(f\"Data shape: {df.shape}\")\n",
        "\n",
        "print(\"\\n🔍 First 10 rows:\")\n",
        "print(df.head(10))\n",
        "\n",
        "# Analyze witness distribution\n",
        "witness_counts = df.groupby('text_ID')['witness_ID'].count()\n",
        "\n",
        "print(f\"\\n📈 Witness Distribution Statistics:\")\n",
        "print(f\"Mean witnesses per text: {witness_counts.mean():.2f}\")\n",
        "print(f\"Median witnesses per text: {witness_counts.median():.1f}\")\n",
        "print(f\"Max witnesses for one text: {witness_counts.max()}\")\n",
        "print(f\"Texts with only 1 witness: {(witness_counts == 1).sum()}\")"
      ],
      "metadata": {
        "colab": {
          "base_uri": "https://localhost:8080/"
        },
        "id": "xOCmh0YlXwTu",
        "outputId": "dba363a3-8a8e-4834-988b-73cd705f31f6"
      },
      "id": "xOCmh0YlXwTu",
      "execution_count": 36,
      "outputs": [
        {
          "output_type": "stream",
          "name": "stdout",
          "text": [
            "📊 Dataset Overview:\n",
            "Total witnesses: 1961\n",
            "Unique texts: 264\n",
            "Data shape: (1961, 2)\n",
            "\n",
            "🔍 First 10 rows:\n",
            "  witness_ID text_ID\n",
            "0       W0-1      T0\n",
            "1       W0-2      T0\n",
            "2       W0-3      T0\n",
            "3       W0-4      T0\n",
            "4       W0-5      T0\n",
            "5       W0-6      T0\n",
            "6       W0-7      T0\n",
            "7       W0-8      T0\n",
            "8       W0-9      T0\n",
            "9      W0-10      T0\n",
            "\n",
            "📈 Witness Distribution Statistics:\n",
            "Mean witnesses per text: 7.43\n",
            "Median witnesses per text: 5.0\n",
            "Max witnesses for one text: 55\n",
            "Texts with only 1 witness: 35\n"
          ]
        }
      ]
    },
    {
      "cell_type": "code",
      "source": [
        "# Create visualization of witness distribution\n",
        "fig, axes = plt.subplots(1, 2, figsize=(15, 5))\n",
        "\n",
        "# Histogram of witness counts per text\n",
        "axes[0].hist(witness_counts, bins=20, alpha=0.7, edgecolor='black')\n",
        "axes[0].set_xlabel('Number of Witnesses per Text')\n",
        "axes[0].set_ylabel('Number of Texts')\n",
        "axes[0].set_title('Distribution of Witnesses per Text')\n",
        "axes[0].grid(True, alpha=0.3)\n",
        "\n",
        "# Log-scale version for better visualization\n",
        "witness_freq = witness_counts.value_counts().sort_index()\n",
        "x_values = witness_freq.index.values\n",
        "y_values = witness_freq.values\n",
        "\n",
        "axes[1].plot(x_values, y_values, 'o-', linestyle='--', marker='o',\n",
        "             markersize=6, linewidth=2, alpha=0.8)\n",
        "axes[1].set_xscale('log')\n",
        "axes[1].set_yscale('log')\n",
        "axes[1].set_xlabel('Number of Witnesses per Text (log scale)')\n",
        "axes[1].set_ylabel('Number of Texts (log scale)')\n",
        "axes[1].set_title('Distribution of Witnesses per Text (Log-Log Scale)')\n",
        "axes[1].grid(True, alpha=0.3, which='both')\n",
        "\n",
        "plt.tight_layout()\n",
        "plt.show()"
      ],
      "metadata": {
        "colab": {
          "base_uri": "https://localhost:8080/",
          "height": 597
        },
        "id": "Hx2iH-GHXwda",
        "outputId": "ffe3c831-96e2-467c-ba57-b8d485099601"
      },
      "id": "Hx2iH-GHXwda",
      "execution_count": 37,
      "outputs": [
        {
          "output_type": "stream",
          "name": "stderr",
          "text": [
            "<ipython-input-37-988a2fe7ce2a>:16: UserWarning: linestyle is redundantly defined by the 'linestyle' keyword argument and the fmt string \"o-\" (-> linestyle='-'). The keyword argument will take precedence.\n",
            "  axes[1].plot(x_values, y_values, 'o-', linestyle='--', marker='o',\n",
            "<ipython-input-37-988a2fe7ce2a>:16: UserWarning: marker is redundantly defined by the 'marker' keyword argument and the fmt string \"o-\" (-> marker='o'). The keyword argument will take precedence.\n",
            "  axes[1].plot(x_values, y_values, 'o-', linestyle='--', marker='o',\n"
          ]
        },
        {
          "output_type": "display_data",
          "data": {
            "text/plain": [
              "<Figure size 1500x500 with 2 Axes>"
            ],
            "image/png": "[encoded data removed]"
          },
          "metadata": {}
        }
      ]
    },
    {
      "cell_type": "markdown",
      "source": [
        "\n",
        "## TODO : Comparaison avec Yule sur cette distribution ? (avec une autre config)"
      ],
      "metadata": {
        "id": "GVX9n1_FfL7R"
      },
      "id": "GVX9n1_FfL7R"
    },
    {
      "cell_type": "code",
      "source": [],
      "metadata": {
        "id": "T6iZjqxMXwln"
      },
      "id": "T6iZjqxMXwln",
      "execution_count": null,
      "outputs": []
    },
    {
      "cell_type": "markdown",
      "source": [
        "## Bayesian Inference\n",
        "\n",
        "This may take a few minutes depending on the configuration."
      ],
      "metadata": {
        "id": "eX5uzpZUgTtC"
      },
      "id": "eX5uzpZUgTtC"
    },
    {
      "cell_type": "code",
      "source": [
        "# Set up results directory\n",
        "results_dir = Path(temp_dir) / 'inference_results'\n",
        "results_dir.mkdir(exist_ok=True)\n",
        "\n",
        "print(\"Running Bayesian inference...\")\n",
        "print(\"This will estimate the model parameters from the observed data.\")\n",
        "\n",
        "# Run inference using the Python function directly\n",
        "inference_data = inference(\n",
        "    csv_file=synthetic_data_file,\n",
        "    model=config.model,\n",
        "    backend=config.backend,\n",
        "    dir=results_dir,\n",
        "    csv_separator=';'\n",
        ")\n",
        "\n",
        "print(f\"\\n✅ Inference completed! Results saved to: {results_dir}\")\n",
        "\n",
        "# List generated files\n",
        "result_files = list(results_dir.glob('*'))\n",
        "print(f\"\\n📁 Generated files: {[f.name for f in result_files]}\")\n",
        "\n",
        "# CLI equivalent:\n",
        "print(f\"\\n💡 CLI equivalent: simmatree -c {config_file} infer -i {synthetic_data_file} -o {results_dir}\")\n"
      ],
      "metadata": {
        "id": "uNN32pApgckq",
        "outputId": "0e4285bb-be5c-4d14-941a-cae578291116",
        "colab": {
          "base_uri": "https://localhost:8080/",
          "height": 412,
          "referenced_widgets": [
            "846f9cbf02734f7bbc299f86e9d67a54",
            "9266e852bf124aa79980d626d016a7b6",
            "2b549430119e402cbe448619df2e9db8",
            "3daac75802c24986b9491f88ac06b208",
            "ba704195fb60436abd9e7c91249cd4b3",
            "7a5bd1d376c047aeb9e9ab4beda98e0a",
            "b8d74ba3942c427ba3b3e3a8a10b55f1",
            "7f960367f4674c4cb6edec92e07f0e88",
            "74849c8512794ae39b1b100e021f7e39",
            "fd97a5b644c748c4958ce7c690ec04b3",
            "b3f3661a31b64202b79852f6820daca6"
          ]
        }
      },
      "id": "uNN32pApgckq",
      "execution_count": null,
      "outputs": [
        {
          "output_type": "stream",
          "name": "stdout",
          "text": [
            "Running Bayesian inference...\n",
            "This will estimate the model parameters from the observed data.\n",
            "cpu\n"
          ]
        },
        {
          "output_type": "display_data",
          "data": {
            "text/plain": [
              "\u001b[92m───────────────────────────────────────────────────── \u001b[0mDataset\u001b[92m ─────────────────────────────────────────────────────\u001b[0m\n"
            ],
            "text/html": [
              "<pre style=\"white-space:pre;overflow-x:auto;line-height:normal;font-family:Menlo,'DejaVu Sans Mono',consolas,'Courier New',monospace\"><span style=\"color: #00ff00; text-decoration-color: #00ff00\">───────────────────────────────────────────────────── </span>Dataset<span style=\"color: #00ff00; text-decoration-color: #00ff00\"> ─────────────────────────────────────────────────────</span>\n",
              "</pre>\n"
            ]
          },
          "metadata": {}
        },
        {
          "output_type": "display_data",
          "data": {
            "text/plain": [
              "Data: \u001b[35m/content/data/\u001b[0m\u001b[95msynthetic_data.csv\u001b[0m\n"
            ],
            "text/html": [
              "<pre style=\"white-space:pre;overflow-x:auto;line-height:normal;font-family:Menlo,'DejaVu Sans Mono',consolas,'Courier New',monospace\">Data: <span style=\"color: #800080; text-decoration-color: #800080\">/content/data/</span><span style=\"color: #ff00ff; text-decoration-color: #ff00ff\">synthetic_data.csv</span>\n",
              "</pre>\n"
            ]
          },
          "metadata": {}
        },
        {
          "output_type": "display_data",
          "data": {
            "text/plain": [
              "\u001b[3m            Data observation            \u001b[0m\n",
              "┏━━━━━━━━━━━━━━━━━━━━━━━━━━━━━━┳━━━━━━━┓\n",
              "┃\u001b[1m \u001b[0m\u001b[1mstatistics                  \u001b[0m\u001b[1m \u001b[0m┃\u001b[1m \u001b[0m\u001b[1mvalue\u001b[0m\u001b[1m \u001b[0m┃\n",
              "┡━━━━━━━━━━━━━━━━━━━━━━━━━━━━━━╇━━━━━━━┩\n",
              "│ Number of witnesses          │ 1961  │\n",
              "│ Number of texts              │ 264   │\n",
              "│ Max witnesses for 1 text     │ 55    │\n",
              "│ Median witnesses per text    │ 5     │\n",
              "│ Number of texts w/ 1 witness │ 35    │\n",
              "└──────────────────────────────┴───────┘\n"
            ],
            "text/html": [
              "<pre style=\"white-space:pre;overflow-x:auto;line-height:normal;font-family:Menlo,'DejaVu Sans Mono',consolas,'Courier New',monospace\"><span style=\"font-style: italic\">            Data observation            </span>\n",
              "┏━━━━━━━━━━━━━━━━━━━━━━━━━━━━━━┳━━━━━━━┓\n",
              "┃<span style=\"font-weight: bold\"> statistics                   </span>┃<span style=\"font-weight: bold\"> value </span>┃\n",
              "┡━━━━━━━━━━━━━━━━━━━━━━━━━━━━━━╇━━━━━━━┩\n",
              "│ Number of witnesses          │ 1961  │\n",
              "│ Number of texts              │ 264   │\n",
              "│ Max witnesses for 1 text     │ 55    │\n",
              "│ Median witnesses per text    │ 5     │\n",
              "│ Number of texts w/ 1 witness │ 35    │\n",
              "└──────────────────────────────┴───────┘\n",
              "</pre>\n"
            ]
          },
          "metadata": {}
        },
        {
          "output_type": "display_data",
          "data": {
            "text/plain": [
              "\u001b[92m──────────────────────────────────────────────── \u001b[0mRunning inference\u001b[92m ────────────────────────────────────────────────\u001b[0m\n"
            ],
            "text/html": [
              "<pre style=\"white-space:pre;overflow-x:auto;line-height:normal;font-family:Menlo,'DejaVu Sans Mono',consolas,'Courier New',monospace\"><span style=\"color: #00ff00; text-decoration-color: #00ff00\">──────────────────────────────────────────────── </span>Running inference<span style=\"color: #00ff00; text-decoration-color: #00ff00\"> ────────────────────────────────────────────────</span>\n",
              "</pre>\n"
            ]
          },
          "metadata": {}
        },
        {
          "output_type": "display_data",
          "data": {
            "text/plain": [
              "\u001b[36mBirthDeath\u001b[0m\n"
            ],
            "text/html": [
              "<pre style=\"white-space:pre;overflow-x:auto;line-height:normal;font-family:Menlo,'DejaVu Sans Mono',consolas,'Courier New',monospace\"><span style=\"color: #008080; text-decoration-color: #008080\">BirthDeath</span>\n",
              "</pre>\n"
            ]
          },
          "metadata": {}
        },
        {
          "output_type": "stream",
          "name": "stdout",
          "text": [
            "Training device: cpu\n",
            "Simulation device: cpu\n",
            "Running simulations...\n",
            "ROUND 1\n"
          ]
        },
        {
          "output_type": "display_data",
          "data": {
            "text/plain": [
              "  0%|          | 0/50 [00:00<?, ?it/s]"
            ],
            "application/vnd.jupyter.widget-view+json": {
              "version_major": 2,
              "version_minor": 0,
              "model_id": "846f9cbf02734f7bbc299f86e9d67a54"
            }
          },
          "metadata": {}
        }
      ]
    },
    {
      "cell_type": "code",
      "source": [],
      "metadata": {
        "id": "sQ5oj3o3gcmp"
      },
      "id": "sQ5oj3o3gcmp",
      "execution_count": null,
      "outputs": []
    },
    {
      "cell_type": "code",
      "source": [],
      "metadata": {
        "id": "vHbm50Vagcoy"
      },
      "id": "vHbm50Vagcoy",
      "execution_count": null,
      "outputs": []
    },
    {
      "cell_type": "code",
      "source": [],
      "metadata": {
        "id": "H7KbGTD8gcrL"
      },
      "id": "H7KbGTD8gcrL",
      "execution_count": null,
      "outputs": []
    },
    {
      "cell_type": "code",
      "source": [],
      "metadata": {
        "id": "aLdJo6IRgctq"
      },
      "id": "aLdJo6IRgctq",
      "execution_count": null,
      "outputs": []
    },
    {
      "cell_type": "code",
      "source": [],
      "metadata": {
        "id": "cTrE7UtkgcxS"
      },
      "id": "cTrE7UtkgcxS",
      "execution_count": null,
      "outputs": []
    },
    {
      "cell_type": "code",
      "source": [],
      "metadata": {
        "id": "bXnZ-RA7gc36"
      },
      "id": "bXnZ-RA7gc36",
      "execution_count": null,
      "outputs": []
    }
  ],
  "metadata": {
    "kernelspec": {
      "display_name": "Python 3 (ipykernel)",
      "language": "python",
      "name": "python3"
    },
    "language_info": {
      "codemirror_mode": {
        "name": "ipython",
        "version": 3
      },
      "file_extension": ".py",
      "mimetype": "text/x-python",
      "name": "python",
      "nbconvert_exporter": "python",
      "pygments_lexer": "ipython3",
      "version": "3.10.12"
    },
    "colab": {
      "provenance": []
    },
    "widgets": {
      "application/vnd.jupyter.widget-state+json": {
        "846f9cbf02734f7bbc299f86e9d67a54": {
          "model_module": "@jupyter-widgets/controls",
          "model_name": "HBoxModel",
          "model_module_version": "1.5.0",
          "state": {
            "_dom_classes": [],
            "_model_module": "@jupyter-widgets/controls",
            "_model_module_version": "1.5.0",
            "_model_name": "HBoxModel",
            "_view_count": null,
            "_view_module": "@jupyter-widgets/controls",
            "_view_module_version": "1.5.0",
            "_view_name": "HBoxView",
            "box_style": "",
            "children": [
              "IPY_MODEL_9266e852bf124aa79980d626d016a7b6",
              "IPY_MODEL_2b549430119e402cbe448619df2e9db8",
              "IPY_MODEL_3daac75802c24986b9491f88ac06b208"
            ],
            "layout": "IPY_MODEL_ba704195fb60436abd9e7c91249cd4b3"
          }
        },
        "9266e852bf124aa79980d626d016a7b6": {
          "model_module": "@jupyter-widgets/controls",
          "model_name": "HTMLModel",
          "model_module_version": "1.5.0",
          "state": {
            "_dom_classes": [],
            "_model_module": "@jupyter-widgets/controls",
            "_model_module_version": "1.5.0",
            "_model_name": "HTMLModel",
            "_view_count": null,
            "_view_module": "@jupyter-widgets/controls",
            "_view_module_version": "1.5.0",
            "_view_name": "HTMLView",
            "description": "",
            "description_tooltip": null,
            "layout": "IPY_MODEL_7a5bd1d376c047aeb9e9ab4beda98e0a",
            "placeholder": "​",
            "style": "IPY_MODEL_b8d74ba3942c427ba3b3e3a8a10b55f1",
            "value": "  4%"
          }
        },
        "2b549430119e402cbe448619df2e9db8": {
          "model_module": "@jupyter-widgets/controls",
          "model_name": "FloatProgressModel",
          "model_module_version": "1.5.0",
          "state": {
            "_dom_classes": [],
            "_model_module": "@jupyter-widgets/controls",
            "_model_module_version": "1.5.0",
            "_model_name": "FloatProgressModel",
            "_view_count": null,
            "_view_module": "@jupyter-widgets/controls",
            "_view_module_version": "1.5.0",
            "_view_name": "ProgressView",
            "bar_style": "",
            "description": "",
            "description_tooltip": null,
            "layout": "IPY_MODEL_7f960367f4674c4cb6edec92e07f0e88",
            "max": 50,
            "min": 0,
            "orientation": "horizontal",
            "style": "IPY_MODEL_74849c8512794ae39b1b100e021f7e39",
            "value": 2
          }
        },
        "3daac75802c24986b9491f88ac06b208": {
          "model_module": "@jupyter-widgets/controls",
          "model_name": "HTMLModel",
          "model_module_version": "1.5.0",
          "state": {
            "_dom_classes": [],
            "_model_module": "@jupyter-widgets/controls",
            "_model_module_version": "1.5.0",
            "_model_name": "HTMLModel",
            "_view_count": null,
            "_view_module": "@jupyter-widgets/controls",
            "_view_module_version": "1.5.0",
            "_view_name": "HTMLView",
            "description": "",
            "description_tooltip": null,
            "layout": "IPY_MODEL_fd97a5b644c748c4958ce7c690ec04b3",
            "placeholder": "​",
            "style": "IPY_MODEL_b3f3661a31b64202b79852f6820daca6",
            "value": " 2/50 [00:24&lt;08:20, 10.43s/it]"
          }
        },
        "ba704195fb60436abd9e7c91249cd4b3": {
          "model_module": "@jupyter-widgets/base",
          "model_name": "LayoutModel",
          "model_module_version": "1.2.0",
          "state": {
            "_model_module": "@jupyter-widgets/base",
            "_model_module_version": "1.2.0",
            "_model_name": "LayoutModel",
            "_view_count": null,
            "_view_module": "@jupyter-widgets/base",
            "_view_module_version": "1.2.0",
            "_view_name": "LayoutView",
            "align_content": null,
            "align_items": null,
            "align_self": null,
            "border": null,
            "bottom": null,
            "display": null,
            "flex": null,
            "flex_flow": null,
            "grid_area": null,
            "grid_auto_columns": null,
            "grid_auto_flow": null,
            "grid_auto_rows": null,
            "grid_column": null,
            "grid_gap": null,
            "grid_row": null,
            "grid_template_areas": null,
            "grid_template_columns": null,
            "grid_template_rows": null,
            "height": null,
            "justify_content": null,
            "justify_items": null,
            "left": null,
            "margin": null,
            "max_height": null,
            "max_width": null,
            "min_height": null,
            "min_width": null,
            "object_fit": null,
            "object_position": null,
            "order": null,
            "overflow": null,
            "overflow_x": null,
            "overflow_y": null,
            "padding": null,
            "right": null,
            "top": null,
            "visibility": null,
            "width": null
          }
        },
        "7a5bd1d376c047aeb9e9ab4beda98e0a": {
          "model_module": "@jupyter-widgets/base",
          "model_name": "LayoutModel",
          "model_module_version": "1.2.0",
          "state": {
            "_model_module": "@jupyter-widgets/base",
            "_model_module_version": "1.2.0",
            "_model_name": "LayoutModel",
            "_view_count": null,
            "_view_module": "@jupyter-widgets/base",
            "_view_module_version": "1.2.0",
            "_view_name": "LayoutView",
            "align_content": null,
            "align_items": null,
            "align_self": null,
            "border": null,
            "bottom": null,
            "display": null,
            "flex": null,
            "flex_flow": null,
            "grid_area": null,
            "grid_auto_columns": null,
            "grid_auto_flow": null,
            "grid_auto_rows": null,
            "grid_column": null,
            "grid_gap": null,
            "grid_row": null,
            "grid_template_areas": null,
            "grid_template_columns": null,
            "grid_template_rows": null,
            "height": null,
            "justify_content": null,
            "justify_items": null,
            "left": null,
            "margin": null,
            "max_height": null,
            "max_width": null,
            "min_height": null,
            "min_width": null,
            "object_fit": null,
            "object_position": null,
            "order": null,
            "overflow": null,
            "overflow_x": null,
            "overflow_y": null,
            "padding": null,
            "right": null,
            "top": null,
            "visibility": null,
            "width": null
          }
        },
        "b8d74ba3942c427ba3b3e3a8a10b55f1": {
          "model_module": "@jupyter-widgets/controls",
          "model_name": "DescriptionStyleModel",
          "model_module_version": "1.5.0",
          "state": {
            "_model_module": "@jupyter-widgets/controls",
            "_model_module_version": "1.5.0",
            "_model_name": "DescriptionStyleModel",
            "_view_count": null,
            "_view_module": "@jupyter-widgets/base",
            "_view_module_version": "1.2.0",
            "_view_name": "StyleView",
            "description_width": ""
          }
        },
        "7f960367f4674c4cb6edec92e07f0e88": {
          "model_module": "@jupyter-widgets/base",
          "model_name": "LayoutModel",
          "model_module_version": "1.2.0",
          "state": {
            "_model_module": "@jupyter-widgets/base",
            "_model_module_version": "1.2.0",
            "_model_name": "LayoutModel",
            "_view_count": null,
            "_view_module": "@jupyter-widgets/base",
            "_view_module_version": "1.2.0",
            "_view_name": "LayoutView",
            "align_content": null,
            "align_items": null,
            "align_self": null,
            "border": null,
            "bottom": null,
            "display": null,
            "flex": null,
            "flex_flow": null,
            "grid_area": null,
            "grid_auto_columns": null,
            "grid_auto_flow": null,
            "grid_auto_rows": null,
            "grid_column": null,
            "grid_gap": null,
            "grid_row": null,
            "grid_template_areas": null,
            "grid_template_columns": null,
            "grid_template_rows": null,
            "height": null,
            "justify_content": null,
            "justify_items": null,
            "left": null,
            "margin": null,
            "max_height": null,
            "max_width": null,
            "min_height": null,
            "min_width": null,
            "object_fit": null,
            "object_position": null,
            "order": null,
            "overflow": null,
            "overflow_x": null,
            "overflow_y": null,
            "padding": null,
            "right": null,
            "top": null,
            "visibility": null,
            "width": null
          }
        },
        "74849c8512794ae39b1b100e021f7e39": {
          "model_module": "@jupyter-widgets/controls",
          "model_name": "ProgressStyleModel",
          "model_module_version": "1.5.0",
          "state": {
            "_model_module": "@jupyter-widgets/controls",
            "_model_module_version": "1.5.0",
            "_model_name": "ProgressStyleModel",
            "_view_count": null,
            "_view_module": "@jupyter-widgets/base",
            "_view_module_version": "1.2.0",
            "_view_name": "StyleView",
            "bar_color": null,
            "description_width": ""
          }
        },
        "fd97a5b644c748c4958ce7c690ec04b3": {
          "model_module": "@jupyter-widgets/base",
          "model_name": "LayoutModel",
          "model_module_version": "1.2.0",
          "state": {
            "_model_module": "@jupyter-widgets/base",
            "_model_module_version": "1.2.0",
            "_model_name": "LayoutModel",
            "_view_count": null,
            "_view_module": "@jupyter-widgets/base",
            "_view_module_version": "1.2.0",
            "_view_name": "LayoutView",
            "align_content": null,
            "align_items": null,
            "align_self": null,
            "border": null,
            "bottom": null,
            "display": null,
            "flex": null,
            "flex_flow": null,
            "grid_area": null,
            "grid_auto_columns": null,
            "grid_auto_flow": null,
            "grid_auto_rows": null,
            "grid_column": null,
            "grid_gap": null,
            "grid_row": null,
            "grid_template_areas": null,
            "grid_template_columns": null,
            "grid_template_rows": null,
            "height": null,
            "justify_content": null,
            "justify_items": null,
            "left": null,
            "margin": null,
            "max_height": null,
            "max_width": null,
            "min_height": null,
            "min_width": null,
            "object_fit": null,
            "object_position": null,
            "order": null,
            "overflow": null,
            "overflow_x": null,
            "overflow_y": null,
            "padding": null,
            "right": null,
            "top": null,
            "visibility": null,
            "width": null
          }
        },
        "b3f3661a31b64202b79852f6820daca6": {
          "model_module": "@jupyter-widgets/controls",
          "model_name": "DescriptionStyleModel",
          "model_module_version": "1.5.0",
          "state": {
            "_model_module": "@jupyter-widgets/controls",
            "_model_module_version": "1.5.0",
            "_model_name": "DescriptionStyleModel",
            "_view_count": null,
            "_view_module": "@jupyter-widgets/base",
            "_view_module_version": "1.2.0",
            "_view_name": "StyleView",
            "description_width": ""
          }
        }
      }
    }
  },
  "nbformat": 4,
  "nbformat_minor": 5
}