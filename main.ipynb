{
  "cells": [
    {
      "cell_type": "markdown",
      "source": [
        "# SimMAtree"
      ],
      "metadata": {
        "id": "Q35XIHwrXpv_"
      },
      "id": "Q35XIHwrXpv_"
    },
    {
      "cell_type": "code",
      "execution_count": 3,
      "id": "86db4575",
      "metadata": {
        "id": "86db4575",
        "colab": {
          "base_uri": "https://localhost:8080/"
        },
        "outputId": "1c71db7b-c29a-4e4f-d2e3-ef3a25c3e077"
      },
      "outputs": [
        {
          "output_type": "stream",
          "name": "stdout",
          "text": [
            "Collecting git+https://github.com/LostMa-ERC/simMAtree.git\n",
            "  Cloning https://github.com/LostMa-ERC/simMAtree.git to /tmp/pip-req-build-rzyyond8\n",
            "  Running command git clone --filter=blob:none --quiet https://github.com/LostMa-ERC/simMAtree.git /tmp/pip-req-build-rzyyond8\n",
            "  Resolved https://github.com/LostMa-ERC/simMAtree.git to commit ac599fec418cc4ae086f86bae842f87df50a387d\n",
            "  Installing build dependencies ... \u001b[?25l\u001b[?25hdone\n",
            "  Getting requirements to build wheel ... \u001b[?25l\u001b[?25hdone\n",
            "  Preparing metadata (pyproject.toml) ... \u001b[?25l\u001b[?25hdone\n",
            "Building wheels for collected packages: simMAtree\n",
            "  Building wheel for simMAtree (pyproject.toml) ... \u001b[?25l\u001b[?25hdone\n",
            "  Created wheel for simMAtree: filename=simmatree-0.0.1-py3-none-any.whl size=41309 sha256=977ce98bee8fb4af3e85aba4303b80aa819fb15e8bed5cb4fe907950fbfbc0a1\n",
            "  Stored in directory: /tmp/pip-ephem-wheel-cache-izvc_qfg/wheels/5c/b9/44/2038c8590561fe59c0d5083dd6dc7c5e4cb8e930985d23cdac\n",
            "Successfully built simMAtree\n",
            "Installing collected packages: simMAtree\n",
            "Successfully installed simMAtree-0.0.1\n",
            "Requirement already satisfied: pandas in /usr/local/lib/python3.11/dist-packages (2.2.3)\n",
            "Requirement already satisfied: numpy in /usr/local/lib/python3.11/dist-packages (1.26.4)\n",
            "Requirement already satisfied: matplotlib in /usr/local/lib/python3.11/dist-packages (3.10.0)\n",
            "Requirement already satisfied: seaborn in /usr/local/lib/python3.11/dist-packages (0.13.2)\n",
            "Requirement already satisfied: pydantic in /usr/local/lib/python3.11/dist-packages (2.11.4)\n",
            "Requirement already satisfied: click in /usr/local/lib/python3.11/dist-packages (8.2.1)\n",
            "Requirement already satisfied: rich in /usr/local/lib/python3.11/dist-packages (14.0.0)\n",
            "Requirement already satisfied: pyyaml in /usr/local/lib/python3.11/dist-packages (6.0.2)\n",
            "Requirement already satisfied: python-dateutil>=2.8.2 in /usr/local/lib/python3.11/dist-packages (from pandas) (2.9.0.post0)\n",
            "Requirement already satisfied: pytz>=2020.1 in /usr/local/lib/python3.11/dist-packages (from pandas) (2025.2)\n",
            "Requirement already satisfied: tzdata>=2022.7 in /usr/local/lib/python3.11/dist-packages (from pandas) (2025.2)\n",
            "Requirement already satisfied: contourpy>=1.0.1 in /usr/local/lib/python3.11/dist-packages (from matplotlib) (1.3.2)\n",
            "Requirement already satisfied: cycler>=0.10 in /usr/local/lib/python3.11/dist-packages (from matplotlib) (0.12.1)\n",
            "Requirement already satisfied: fonttools>=4.22.0 in /usr/local/lib/python3.11/dist-packages (from matplotlib) (4.58.0)\n",
            "Requirement already satisfied: kiwisolver>=1.3.1 in /usr/local/lib/python3.11/dist-packages (from matplotlib) (1.4.8)\n",
            "Requirement already satisfied: packaging>=20.0 in /usr/local/lib/python3.11/dist-packages (from matplotlib) (24.2)\n",
            "Requirement already satisfied: pillow>=8 in /usr/local/lib/python3.11/dist-packages (from matplotlib) (11.2.1)\n",
            "Requirement already satisfied: pyparsing>=2.3.1 in /usr/local/lib/python3.11/dist-packages (from matplotlib) (3.2.3)\n",
            "Requirement already satisfied: annotated-types>=0.6.0 in /usr/local/lib/python3.11/dist-packages (from pydantic) (0.7.0)\n",
            "Requirement already satisfied: pydantic-core==2.33.2 in /usr/local/lib/python3.11/dist-packages (from pydantic) (2.33.2)\n",
            "Requirement already satisfied: typing-extensions>=4.12.2 in /usr/local/lib/python3.11/dist-packages (from pydantic) (4.13.2)\n",
            "Requirement already satisfied: typing-inspection>=0.4.0 in /usr/local/lib/python3.11/dist-packages (from pydantic) (0.4.1)\n",
            "Requirement already satisfied: markdown-it-py>=2.2.0 in /usr/local/lib/python3.11/dist-packages (from rich) (3.0.0)\n",
            "Requirement already satisfied: pygments<3.0.0,>=2.13.0 in /usr/local/lib/python3.11/dist-packages (from rich) (2.19.1)\n",
            "Requirement already satisfied: mdurl~=0.1 in /usr/local/lib/python3.11/dist-packages (from markdown-it-py>=2.2.0->rich) (0.1.2)\n",
            "Requirement already satisfied: six>=1.5 in /usr/local/lib/python3.11/dist-packages (from python-dateutil>=2.8.2->pandas) (1.17.0)\n"
          ]
        }
      ],
      "source": [
        "# Install simmatree directly from GitHub\n",
        "!pip install git+https://github.com/LostMa-ERC/simMAtree.git --no-deps\n",
        "!pip install pandas numpy matplotlib seaborn pydantic click rich pyyaml\n",
        "# !pip install git+https://github.com/LostMa-ERC/simMAtree.git\n",
        "\n",
        "# Test installation\n",
        "!simmatree-test"
      ]
    },
    {
      "cell_type": "markdown",
      "source": [
        "### Imports and Setup"
      ],
      "metadata": {
        "id": "B4ASvvqgXpEe"
      },
      "id": "B4ASvvqgXpEe"
    },
    {
      "cell_type": "code",
      "source": [
        "import os\n",
        "import tempfile\n",
        "import yaml\n",
        "import pandas as pd\n",
        "import numpy as np\n",
        "import matplotlib.pyplot as plt\n",
        "import seaborn as sns\n",
        "from pathlib import Path\n",
        "\n",
        "# Import simmatree functions directly\n",
        "from src.cli.config import Config\n",
        "from src.cli.generate import generate\n",
        "from src.cli.inference import inference\n",
        "from src.cli.score import score"
      ],
      "metadata": {
        "id": "pYgVPLqaXwC0"
      },
      "id": "pYgVPLqaXwC0",
      "execution_count": 4,
      "outputs": []
    },
    {
      "cell_type": "markdown",
      "source": [
        "### Configuration example"
      ],
      "metadata": {
        "id": "sVU-bAdHXygn"
      },
      "id": "sVU-bAdHXygn"
    },
    {
      "cell_type": "code",
      "source": [],
      "metadata": {
        "id": "Xl_qGV5wXwNM"
      },
      "id": "Xl_qGV5wXwNM",
      "execution_count": null,
      "outputs": []
    },
    {
      "cell_type": "code",
      "source": [],
      "metadata": {
        "id": "LwDskRohXwQs"
      },
      "id": "LwDskRohXwQs",
      "execution_count": null,
      "outputs": []
    },
    {
      "cell_type": "code",
      "source": [],
      "metadata": {
        "id": "xOCmh0YlXwTu"
      },
      "id": "xOCmh0YlXwTu",
      "execution_count": null,
      "outputs": []
    },
    {
      "cell_type": "code",
      "source": [],
      "metadata": {
        "id": "Hx2iH-GHXwda"
      },
      "id": "Hx2iH-GHXwda",
      "execution_count": null,
      "outputs": []
    },
    {
      "cell_type": "code",
      "source": [],
      "metadata": {
        "id": "T6iZjqxMXwln"
      },
      "id": "T6iZjqxMXwln",
      "execution_count": null,
      "outputs": []
    }
  ],
  "metadata": {
    "kernelspec": {
      "display_name": "Python 3 (ipykernel)",
      "language": "python",
      "name": "python3"
    },
    "language_info": {
      "codemirror_mode": {
        "name": "ipython",
        "version": 3
      },
      "file_extension": ".py",
      "mimetype": "text/x-python",
      "name": "python",
      "nbconvert_exporter": "python",
      "pygments_lexer": "ipython3",
      "version": "3.10.12"
    },
    "colab": {
      "provenance": []
    }
  },
  "nbformat": 4,
  "nbformat_minor": 5
}